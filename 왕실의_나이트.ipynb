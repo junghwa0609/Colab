{
  "nbformat": 4,
  "nbformat_minor": 0,
  "metadata": {
    "colab": {
      "provenance": [],
      "toc_visible": true,
      "authorship_tag": "ABX9TyNv1yYa+CzWXM/Uni74iot7",
      "include_colab_link": true
    },
    "kernelspec": {
      "name": "python3",
      "display_name": "Python 3"
    },
    "language_info": {
      "name": "python"
    }
  },
  "cells": [
    {
      "cell_type": "markdown",
      "metadata": {
        "id": "view-in-github",
        "colab_type": "text"
      },
      "source": [
        "<a href=\"https://colab.research.google.com/github/junghwa0609/Colab/blob/main/%EC%99%95%EC%8B%A4%EC%9D%98_%EB%82%98%EC%9D%B4%ED%8A%B8.ipynb\" target=\"_parent\"><img src=\"https://colab.research.google.com/assets/colab-badge.svg\" alt=\"Open In Colab\"/></a>"
      ]
    },
    {
      "cell_type": "code",
      "execution_count": 8,
      "metadata": {
        "id": "na0BrkSYLgIC",
        "colab": {
          "base_uri": "https://localhost:8080/",
          "height": 72
        },
        "outputId": "1957503d-3a1c-4d5f-ef62-3d2ae95b682f"
      },
      "outputs": [
        {
          "output_type": "stream",
          "name": "stdout",
          "text": [
            "a1\n",
            "['1', 1]\n"
          ]
        },
        {
          "output_type": "execute_result",
          "data": {
            "text/plain": [
              "'\\nU:(-2,-1)\\nL:(-2,-1)\\nR:(2,1)\\nD:(2,1)\\n\\nLRUD = [(-2,-1),(2,1)]\\n\\nfor i in range(2):\\n  if LRUD[]'"
            ],
            "application/vnd.google.colaboratory.intrinsic+json": {
              "type": "string"
            }
          },
          "metadata": {},
          "execution_count": 8
        }
      ],
      "source": [
        "#나이트의 이동방향 정해주기\n",
        "#나이트가 이동 할 수 있는 경우의 수 정해주기(총 8가지 방향 가능)\n",
        "\n",
        "A = list(input()) #시작위치\n",
        "A[1] = ord(A[0])-ord('a')+1\n",
        "A[0] = int(A[0])\n",
        "'''\n",
        "U:(-2,-1)\n",
        "L:(-2,-1)\n",
        "R:(2,1)\n",
        "D:(2,1)\n",
        "'''\n",
        "LRUD = {(-2,-1),(2,1)}\n",
        "where = []\n",
        "\n",
        "for i in range(2) :\n",
        "  where+ list(LRUD[i][0], LRUD[i+1][1]) + list(LRUD)\n",
        "  LRUD[i] LRUD[i]\n",
        "\n",
        "for i in range(2):\n",
        "  if LRUD[]'''"
      ]
    },
    {
      "cell_type": "markdown",
      "source": [
        "\n",
        "# 미완성\n"
      ],
      "metadata": {
        "id": "tjrE35w0Si6Z"
      }
    }
  ]
}