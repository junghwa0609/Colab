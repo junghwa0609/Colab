{
  "nbformat": 4,
  "nbformat_minor": 0,
  "metadata": {
    "colab": {
      "provenance": [],
      "authorship_tag": "ABX9TyMXCL8H7ZMGdZFLeQzSg8cM",
      "include_colab_link": true
    },
    "kernelspec": {
      "name": "python3",
      "display_name": "Python 3"
    },
    "language_info": {
      "name": "python"
    }
  },
  "cells": [
    {
      "cell_type": "markdown",
      "metadata": {
        "id": "view-in-github",
        "colab_type": "text"
      },
      "source": [
        "<a href=\"https://colab.research.google.com/github/junghwa0609/Colab/blob/main/%EC%83%81%ED%95%98%EC%A2%8C%EC%9A%B0_py.ipynb\" target=\"_parent\"><img src=\"https://colab.research.google.com/assets/colab-badge.svg\" alt=\"Open In Colab\"/></a>"
      ]
    },
    {
      "cell_type": "markdown",
      "source": [
        "상하좌우 구현"
      ],
      "metadata": {
        "id": "6jl3KUo9_beu"
      }
    },
    {
      "cell_type": "code",
      "source": [
        "#시작좌표는 항상 1,1\n",
        "#계획서에는  LRUD 중 하나의 문자가 반복적으로 적혀있따\n",
        "#계획서를 보고 최종 여행가가 도착할 위치를 출력하는 프로그램 작성\n",
        "\n",
        "A = int(input())\n",
        "B = list(input().split())\n",
        "\n",
        "where = {'U':(-1,0),'D':(1,0),'L':(0,-1),'R':(0,1)}\n",
        "start_where = [1,1]\n",
        "for alpha in B :\n",
        "  if alpha in where :\n",
        "    start_where[0]+= where[alpha][0]\n",
        "    start_where[1]+= where[alpha][1]\n",
        "\n",
        "    if (start_where[0] and start_where[1]) > A or (start_where[0] and start_where[1])<1 :\n",
        "      start_where[0]-= where[alpha][0]\n",
        "      start_where[1]-= where[alpha][1]\n",
        "\n",
        "\n",
        "print(start_where)\n"
      ],
      "metadata": {
        "colab": {
          "base_uri": "https://localhost:8080/"
        },
        "id": "Nx0jI8XQ_dQD",
        "outputId": "a968631b-acd4-498e-9157-ef68661d0841"
      },
      "execution_count": null,
      "outputs": [
        {
          "output_type": "stream",
          "name": "stdout",
          "text": [
            "5\n",
            "R R R U D D\n",
            "[3, 4]\n"
          ]
        }
      ]
    },
    {
      "cell_type": "markdown",
      "source": [
        "5\n",
        "R R R U D D\n"
      ],
      "metadata": {
        "id": "kgrBEQx-FP2o"
      }
    }
  ]
}